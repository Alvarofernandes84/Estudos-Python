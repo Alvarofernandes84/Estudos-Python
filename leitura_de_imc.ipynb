{
  "nbformat": 4,
  "nbformat_minor": 0,
  "metadata": {
    "colab": {
      "provenance": [],
      "authorship_tag": "ABX9TyOL3WbcGlVcpdHKN4ADt+fb",
      "include_colab_link": true
    },
    "kernelspec": {
      "name": "python3",
      "display_name": "Python 3"
    },
    "language_info": {
      "name": "python"
    }
  },
  "cells": [
    {
      "cell_type": "markdown",
      "metadata": {
        "id": "view-in-github",
        "colab_type": "text"
      },
      "source": [
        "<a href=\"https://colab.research.google.com/github/Alvarofernandes84/Estudos-Python-and-Cpp-/blob/main/leitura_de_imc.ipynb\" target=\"_parent\"><img src=\"https://colab.research.google.com/assets/colab-badge.svg\" alt=\"Open In Colab\"/></a>"
      ]
    },
    {
      "cell_type": "code",
      "execution_count": 8,
      "metadata": {
        "colab": {
          "base_uri": "https://localhost:8080/"
        },
        "id": "8xHjRmxTiVIu",
        "outputId": "141a9a3e-abfd-42b5-f79d-a7cf03dbe9a3"
      },
      "outputs": [
        {
          "output_type": "stream",
          "name": "stdout",
          "text": [
            "----------------------------------------------------------------------------------------------------\n",
            "Estamos fazendo o cálculo de 'índice de massa corporal' e precisamos de algumas informações suas...\n",
            "----------------------------------------------------------------------------------------------------\n",
            "Digite o seu peso (KG): 95\n",
            "Digite a sua altura (M): 1.83\n",
            "Seu indice de massa corporal é:  28.367523664486843\n",
            ", VOCÊ ESTÁ COM 'SOBREPESO'\n"
          ]
        }
      ],
      "source": [
        "print(\"-\"*100)\n",
        "print(\"Estou fazendo o cálculo de 'índice de massa corporal' e precisamos de algumas informações suas...\")\n",
        "print(\"-\"*100)\n",
        "peso = float(input(\"Digite o seu peso (KG): \"))\n",
        "altura = float(input(\"Digite a sua altura (M): \"))\n",
        "imc = peso / ( altura ** 2)\n",
        "print(\"Seu indice de massa corporal é: \", imc)\n",
        "if imc < 17:\n",
        "    print(\"E VOCÊ ESTÁ MUITO ABAIXO DO PESO\")\n",
        "else:\n",
        "    if 17 <= imc < 18.5:\n",
        "        print(\"E VOCÊ ESTÁ 'ABAIXO DO PESO'\")\n",
        "    else:\n",
        "        if 18.5 <= imc <= 25:\n",
        "            print(\"VOCÊ ESTÁ NO SEU 'PESO IDEAL'\")\n",
        "        else:\n",
        "            if 25 < imc <= 30:\n",
        "                print(\"VOCÊ ESTÁ COM 'SOBREPESO'\")\n",
        "            else:\n",
        "                if 30 < imc <= 35:\n",
        "                    print(\"VOCÊ ESTÁ COM 'OBESIDADE'\")\n",
        "                else:\n",
        "                    if 35 < imc < 40:\n",
        "                        print(\"VOCÊ ESTÁ COM 'OBESIDADE SEVERA'\")\n",
        "                    else:\n",
        "                        if imc >= 40:\n",
        "                            print(\"VOCÊ ESTÁ COM 'OBESIDADE MÓRBIDA'\")"
      ]
    },
    {
      "cell_type": "markdown",
      "source": [
        "***Aqui esta a mesma formatação utilizando o ' elif '***\n"
      ],
      "metadata": {
        "id": "qw4ICF7DnFFv"
      }
    },
    {
      "cell_type": "code",
      "source": [
        "print(\"-\"*100)\n",
        "print(\"Estou fazendo o cálculo de 'índice de massa corporal' e precisamos de algumas informações suas...\")\n",
        "print(\"-\"*100)\n",
        "peso = float(input(\"Digite o seu peso (KG): \"))\n",
        "altura = float(input(\"Digite a sua altura (M): \"))\n",
        "imc = peso / ( altura ** 2)\n",
        "if imc < 17:\n",
        "    print(\"E VOCÊ ESTÁ MUITO ABAIXO DO PESO\")\n",
        "elif 17 <= imc < 18.5:\n",
        "    print(\"E VOCÊ ESTÁ 'ABAIXO DO PESO'\")\n",
        "elif 18.5 <= imc <= 25:\n",
        "    print(\"VOCÊ ESTÁ NO SEU 'PESO IDEAL'\")\n",
        "elif 25 < imc <= 30:\n",
        "    print(\"VOCÊ ESTÁ COM 'SOBREPESO'\")\n",
        "elif 30 < imc <= 35:\n",
        "    print(\"VOCÊ ESTÁ COM 'OBESIDADE'\")\n",
        "elif 35 < imc < 40:\n",
        "    print(\"VOCÊ ESTÁ COM 'OBESIDADE SEVERA'\")\n",
        "else:\n",
        "    print(\"VOCÊ ESTÁ COM 'OBESIDADE MÓRBIDA'\")"
      ],
      "metadata": {
        "colab": {
          "base_uri": "https://localhost:8080/"
        },
        "id": "3LPMYwu7m_5X",
        "outputId": "50ced64c-0b5b-4a17-f80f-2e090b7498d4"
      },
      "execution_count": 13,
      "outputs": [
        {
          "output_type": "stream",
          "name": "stdout",
          "text": [
            "----------------------------------------------------------------------------------------------------\n",
            "Estamos fazendo o cálculo de 'índice de massa corporal' e precisamos de algumas informações suas...\n",
            "----------------------------------------------------------------------------------------------------\n",
            "Digite o seu peso (KG): 120\n",
            "Digite a sua altura (M): 1.85\n",
            "VOCÊ ESTÁ COM 'OBESIDADE SEVERA'\n"
          ]
        }
      ]
    }
  ]
}