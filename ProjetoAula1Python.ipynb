{
  "nbformat": 4,
  "nbformat_minor": 0,
  "metadata": {
    "colab": {
      "provenance": [],
      "authorship_tag": "ABX9TyM84C8HlcZhO1mMx9EI+iw6",
      "include_colab_link": true
    },
    "kernelspec": {
      "name": "python3",
      "display_name": "Python 3"
    },
    "language_info": {
      "name": "python"
    }
  },
  "cells": [
    {
      "cell_type": "markdown",
      "metadata": {
        "id": "view-in-github",
        "colab_type": "text"
      },
      "source": [
        "<a href=\"https://colab.research.google.com/github/Alvarofernandes84/projetosCpp/blob/main/ProjetoAula1Python.ipynb\" target=\"_parent\"><img src=\"https://colab.research.google.com/assets/colab-badge.svg\" alt=\"Open In Colab\"/></a>"
      ]
    },
    {
      "cell_type": "markdown",
      "source": [
        "# Gerador de PDF"
      ],
      "metadata": {
        "id": "1m6zfFTzeymA"
      }
    },
    {
      "cell_type": "markdown",
      "source": [
        "## Entrada de dados"
      ],
      "metadata": {
        "id": "-cVGNexXfMPB"
      }
    },
    {
      "cell_type": "code",
      "source": [
        "projeto = input(\"Digite a descrição do projeto: \")\n",
        "horas_estimadas = input(\"Digite o total de horas estimadas: \")\n",
        "valor_hora = input(\"Digite o valor da hora trabalhada: \")\n",
        "prazo = input(\"Digite o prazo: \")\n",
        "\n",
        "valor_total = int(horas_estimadas) * int (valor_hora)\n",
        "print(valor_total)\n",
        "\n",
        "\n"
      ],
      "metadata": {
        "colab": {
          "base_uri": "https://localhost:8080/"
        },
        "id": "PxWZRQJdesZY",
        "outputId": "f7e26e33-583a-4793-e6c9-8294c3670511"
      },
      "execution_count": 1,
      "outputs": [
        {
          "output_type": "stream",
          "name": "stdout",
          "text": [
            "Digite a descrição do projeto: Projeto geração\n",
            "Digite o total de horas estimadas: 300\n",
            "Digite o valor da hora trabalhada: 20\n",
            "Digite o prazo: 60\n",
            "6000\n"
          ]
        }
      ]
    },
    {
      "cell_type": "code",
      "source": [
        "from fpdf import FPDF\n",
        "\n",
        "pdf = FPDF()\n",
        "\n",
        "pdf.add_page()\n",
        "\n",
        "pdf.set_font(\"Arial\")\n",
        "\n",
        "pdf.text(115, 145, projeto)\n",
        "pdf.text(115, 160, horas_estimadas)\n",
        "pdf.text(115, 175, valor_hora)\n",
        "pdf.text(115, 190, prazo)\n",
        "pdf.text(115, 205, str(valor_total))\n",
        "\n",
        "pdf.output(\"orcamento.pdf\")\n",
        "\n",
        "print(\"orçamento gerado com sucesso! \")"
      ],
      "metadata": {
        "id": "Y6U-ERTBSPzm",
        "outputId": "fe019383-e8c5-4fc4-f669-70717301ca5e",
        "colab": {
          "base_uri": "https://localhost:8080/"
        }
      },
      "execution_count": 5,
      "outputs": [
        {
          "output_type": "stream",
          "name": "stdout",
          "text": [
            "orçamento gerado com sucesso! \n"
          ]
        }
      ]
    },
    {
      "cell_type": "code",
      "source": [
        "!pip install FPDF"
      ],
      "metadata": {
        "colab": {
          "base_uri": "https://localhost:8080/"
        },
        "id": "b0t3bDv8uyZS",
        "outputId": "aa1c41f0-e0c4-4461-88b9-0bfd6419b925"
      },
      "execution_count": 4,
      "outputs": [
        {
          "output_type": "stream",
          "name": "stdout",
          "text": [
            "Collecting FPDF\n",
            "  Downloading fpdf-1.7.2.tar.gz (39 kB)\n",
            "  Preparing metadata (setup.py) ... \u001b[?25l\u001b[?25hdone\n",
            "Building wheels for collected packages: FPDF\n",
            "  Building wheel for FPDF (setup.py) ... \u001b[?25l\u001b[?25hdone\n",
            "  Created wheel for FPDF: filename=fpdf-1.7.2-py2.py3-none-any.whl size=40702 sha256=845a97088f72ac70d1c42b666f403efd18d217222ac9a08caade05ea9dd20efe\n",
            "  Stored in directory: /root/.cache/pip/wheels/f9/95/ba/f418094659025eb9611f17cbcaf2334236bf39a0c3453ea455\n",
            "Successfully built FPDF\n",
            "Installing collected packages: FPDF\n",
            "Successfully installed FPDF-1.7.2\n"
          ]
        }
      ]
    }
  ]
}