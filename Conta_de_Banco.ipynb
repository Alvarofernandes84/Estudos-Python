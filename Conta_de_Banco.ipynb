{
  "nbformat": 4,
  "nbformat_minor": 0,
  "metadata": {
    "colab": {
      "provenance": [],
      "authorship_tag": "ABX9TyOiITSTlU8ESKaUDTWje8Yv",
      "include_colab_link": true
    },
    "kernelspec": {
      "name": "python3",
      "display_name": "Python 3"
    },
    "language_info": {
      "name": "python"
    }
  },
  "cells": [
    {
      "cell_type": "markdown",
      "metadata": {
        "id": "view-in-github",
        "colab_type": "text"
      },
      "source": [
        "<a href=\"https://colab.research.google.com/github/Alvarofernandes84/Estudos-Python/blob/main/Conta_de_Banco.ipynb\" target=\"_parent\"><img src=\"https://colab.research.google.com/assets/colab-badge.svg\" alt=\"Open In Colab\"/></a>"
      ]
    },
    {
      "cell_type": "code",
      "source": [
        "i = 0\n",
        "print(\"-----Por favor, crie uma conta primeiro!-----\")\n",
        "\n",
        "def criarConta():\n",
        "    global saldo\n",
        "    global conta\n",
        "    nome = input(\"Digite seu nome: \")\n",
        "    saldo = float(input(\"Digite o seu saldo: \"))\n",
        "    num_conta = input(\"Digite o numero da sua conta: \")\n",
        "    print((\"-\"*40))\n",
        "    conta = {\"nome\": nome , \"saldo\": saldo , \"número da conta\": num_conta}\n",
        "\n",
        "def depositar():\n",
        "    global saldo\n",
        "    saldo1 = float(input(\"Digite que valor você quer depositar: R$\"))\n",
        "    saldo = saldo + saldo1\n",
        "    print(\"-\" * 10, \"(Saldo atual: R$\", format(saldo, \".2f\"), \")\", \"-\" * 10)\n",
        "    print((\"-\"*40))\n",
        "    return saldo\n",
        "\n",
        "def retirar():\n",
        "    global saldo\n",
        "    retirar = float(input(\"Digite que valor você quer retirar: R$\"))\n",
        "    if retirar > saldo:\n",
        "        print(\"-\" * 40)\n",
        "        print(\"Você não tem saldo suficiente!\")\n",
        "        print(\"-\" * 40)\n",
        "    else:\n",
        "        saldo -= retirar\n",
        "        print(\"-\" * 10, \"(Saldo atual: R$\", format(saldo, \".2f\"), \")\", \"-\" * 10)\n",
        "        print(\"-\" * 40)\n",
        "\n",
        "\n",
        "\n",
        "while i < 100:\n",
        "  print(\"Seja bem-vindo ao seu banco\")\n",
        "  print(\"0 - criar uma conta\")\n",
        "  print(\"1 - verificar saldo\")\n",
        "  print(\"2 - Depositar dinheiro\")\n",
        "  print(\"3 - sacar dinheiro\")\n",
        "  print(\"4 - Suas informações\")\n",
        "  print(\"5 - sair\")\n",
        "  print(\"-\"*40)\n",
        "  escolha = int(input(\"Escolha uma Opção: \"))\n",
        "  i = escolha\n",
        "  if escolha == 0:\n",
        "    criarConta()\n",
        "\n",
        "  elif escolha == 1:\n",
        "    print(\"-\" * 10, \"(Saldo atual: R$\", format(saldo, \".2f\"), \")\", \"-\" * 10)\n",
        "    print((\"-\"*40))\n",
        "\n",
        "  elif escolha == 2:\n",
        "    saldo = depositar()\n",
        "    print(saldo)\n",
        "\n",
        "  elif escolha == 3:\n",
        "    retirar()\n",
        "\n",
        "  elif escolha == 4:\n",
        "    print(conta)\n",
        "\n",
        "  elif escolha == 5:\n",
        "    print(\"muito obrigado pela preferência!\")\n",
        "    break"
      ],
      "metadata": {
        "id": "jlmfIhB489jN"
      },
      "execution_count": null,
      "outputs": []
    }
  ]
}